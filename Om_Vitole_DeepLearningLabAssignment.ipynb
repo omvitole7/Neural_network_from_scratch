{
  "nbformat": 4,
  "nbformat_minor": 0,
  "metadata": {
    "colab": {
      "provenance": []
    },
    "kernelspec": {
      "name": "python3",
      "display_name": "Python 3"
    },
    "language_info": {
      "name": "python"
    }
  },
  "cells": [
    {
      "cell_type": "code",
      "execution_count": 2,
      "metadata": {
        "colab": {
          "base_uri": "https://localhost:8080/"
        },
        "id": "W17MqPLf_Gjx",
        "outputId": "6f8692b9-1eae-4a3c-ae1a-b191a0f7b0de"
      },
      "outputs": [
        {
          "output_type": "stream",
          "name": "stdout",
          "text": [
            "Epoch 0 - Loss: 0.24001407537558683\n",
            "Epoch 1000 - Loss: 0.10011932891951823\n",
            "Epoch 2000 - Loss: 0.029760165326185993\n",
            "Epoch 3000 - Loss: 0.012524503396317931\n",
            "Epoch 4000 - Loss: 0.007150371875629031\n",
            "Epoch 5000 - Loss: 0.00479467761864227\n",
            "Epoch 6000 - Loss: 0.003528583050488939\n",
            "Epoch 7000 - Loss: 0.0027557510497250226\n",
            "Epoch 8000 - Loss: 0.002241866246224533\n",
            "Epoch 9000 - Loss: 0.0018786543622887817\n",
            "\n",
            "Predictions after training:\n",
            "[[0.94107753]\n",
            " [0.03749123]\n",
            " [0.03809151]\n",
            " [0.01055703]]\n"
          ]
        }
      ],
      "source": [
        "import numpy as np\n",
        "\n",
        "# Step 1: Sigmoid Activation Function\n",
        "def sigmoid(x):\n",
        "    return 1 / (1 + np.exp(-x))\n",
        "\n",
        "# Step 2: Derivative of Sigmoid Activation Function\n",
        "def sigmoid_derivative(x):\n",
        "    return x * (1 - x)\n",
        "\n",
        "# Step 3: Neural Network Class Definition\n",
        "class NeuralNetwork:\n",
        "    def __init__(self, input_size, hidden_size, output_size):  # Corrected method name\n",
        "        # Step 3a: Initialize the neural network with input, hidden, and output layers.\n",
        "        self.input_size = input_size\n",
        "        self.hidden_size = hidden_size\n",
        "        self.output_size = output_size\n",
        "\n",
        "        # Step 3b: Initialize weights and biases with random small values.\n",
        "        self.weights_input_hidden = np.random.uniform(-1, 1, (input_size, hidden_size))\n",
        "        self.bias_hidden = np.random.uniform(-1, 1, (1, hidden_size))\n",
        "        self.weights_hidden_output = np.random.uniform(-1, 1, (hidden_size, output_size))\n",
        "        self.bias_output = np.random.uniform(-1, 1, (1, output_size))\n",
        "\n",
        "    def forward(self, X):\n",
        "        # Step 4: Forward pass to calculate outputs from inputs.\n",
        "        self.input_layer = X\n",
        "        self.hidden_layer_input = np.dot(self.input_layer, self.weights_input_hidden) + self.bias_hidden\n",
        "        self.hidden_layer_output = sigmoid(self.hidden_layer_input)\n",
        "        self.output_layer_input = np.dot(self.hidden_layer_output, self.weights_hidden_output) + self.bias_output\n",
        "        self.output_layer_output = sigmoid(self.output_layer_input)\n",
        "        return self.output_layer_output\n",
        "\n",
        "    def backward(self, X, y, learning_rate):\n",
        "        # Step 5: Backpropagation for adjusting weights and biases.\n",
        "        error_output = y - self.output_layer_output\n",
        "        output_layer_delta = error_output * sigmoid_derivative(self.output_layer_output)\n",
        "        error_hidden = output_layer_delta.dot(self.weights_hidden_output.T)\n",
        "        hidden_layer_delta = error_hidden * sigmoid_derivative(self.hidden_layer_output)\n",
        "        self.weights_hidden_output += self.hidden_layer_output.T.dot(output_layer_delta) * learning_rate\n",
        "        self.bias_output += np.sum(output_layer_delta, axis=0, keepdims=True) * learning_rate\n",
        "        self.weights_input_hidden += X.T.dot(hidden_layer_delta) * learning_rate\n",
        "        self.bias_hidden += np.sum(hidden_layer_delta, axis=0, keepdims=True) * learning_rate\n",
        "\n",
        "    def train(self, X, y, epochs, learning_rate):\n",
        "        # Step 6: Train the neural network.\n",
        "        for epoch in range(epochs):\n",
        "            self.forward(X)\n",
        "            self.backward(X, y, learning_rate)\n",
        "            if epoch % 1000 == 0:\n",
        "                loss = np.mean(np.square(y - self.output_layer_output))\n",
        "                print(f\"Epoch {epoch} - Loss: {loss}\")\n",
        "\n",
        "# Step 7: Main Program for NOR Gate Problem\n",
        "if __name__ == \"__main__\":  # Corrected condition\n",
        "    # NOR Gate Dataset\n",
        "    X = np.array([[0, 0], [0, 1], [1, 0], [1, 1]])\n",
        "    y = np.array([[1], [0], [0], [0]])\n",
        "\n",
        "    # Step 7a: Create a neural network with 2 input neurons, 3 hidden neurons, and 1 output neuron.\n",
        "    nn = NeuralNetwork(input_size=2, hidden_size=3, output_size=1)\n",
        "\n",
        "    # Step 7b: Train the network for 10,000 epochs with a learning rate of 0.05.\n",
        "    nn.train(X, y, epochs=10000, learning_rate=0.05)\n",
        "\n",
        "    # Step 7c: Print the predictions after training.\n",
        "    print(\"\\nPredictions after training:\")\n",
        "    print(nn.forward(X))\n"
      ]
    }
  ]
}